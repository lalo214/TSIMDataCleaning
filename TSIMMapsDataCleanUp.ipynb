{
 "cells": [
  {
   "cell_type": "code",
   "execution_count": 14,
   "metadata": {},
   "outputs": [],
   "source": [
    "import csv\n",
    "import pandas as pd\n",
    "\n",
    "# cleans up list elements by removing colon suffix\n",
    "def cleanTrail(listID):\n",
    "    for i in range(len(listID)):\n",
    "        if \":\" in listID[i]:\n",
    "            listID[i] = listID[i][:-3]\n",
    "            \n",
    "#pulls transaciton set out of map name            \n",
    "def sliceTSet(mapName):\n",
    "    if 'ansix12' in mapName:\n",
    "        tSet = mapName[13:16]\n",
    "    else:\n",
    "        tSet = (mapName[13:19]).upper()\n",
    "    return tSet   \n",
    "\n",
    "#pulls version out of map name\n",
    "def sliceVersion(mapName):\n",
    "    if 'ansix12' in mapName:\n",
    "        version = '00' + mapName[17:21]\n",
    "    else:\n",
    "        version = 'D ' + mapName[19:22]\n",
    "    return version\n",
    "\n",
    "#Dictionary that will be converted to dataframe\n",
    "d = {'Sender':[], 'Transaction Set':[], 'Version':[], 'EDICode':[], 'TSIM Map':[]}\n",
    "\n",
    "with open('TSIMOE_Inbound.csv') as f:\n",
    "    #gets rid of headers\n",
    "    f.readline()\n",
    "    csv_reader = csv.reader(f,delimiter = ',')\n",
    "    \n",
    "    #iterate through rows in CSV file\n",
    "    for line_list in csv_reader:\n",
    "        #create lists using delimited values from SENDER_EXT and RECEIVER_EXT\n",
    "        sender_list = [x.strip() for x in line_list[4].split('|')]\n",
    "        receiver_list = [x.strip() for x in line_list[5].split('|')]\n",
    "        \n",
    "        cleanTrail(sender_list)\n",
    "        cleanTrail(receiver_list) \n",
    "        \n",
    "        #loop thorugh senders first to ensure all possible combinations are made\n",
    "        for sender in sender_list:\n",
    "            # in the case that there is no TSIM map available \n",
    "            if not line_list[10]:\n",
    "                continue\n",
    "            for receiver in receiver_list:\n",
    "                d['Sender'].append(line_list[0])\n",
    "                d['Transaction Set'].append(sliceTSet(line_list[10]))\n",
    "                d['Version'].append(sliceVersion(line_list[10]))\n",
    "                d['EDICode'].append(sender + receiver)\n",
    "                d['TSIM Map'].append(line_list[10])\n",
    "                \n",
    "df = pd.DataFrame(data=d)\n",
    "#print(df)\n",
    "\n",
    "#write DataFrame to a file\n",
    "writer = pd.ExcelWriter('gotEm6.xlsx', engine='xlsxwriter')\n",
    "df.to_excel(writer)\n",
    "writer.save()      "
   ]
  },
  {
   "cell_type": "code",
   "execution_count": null,
   "metadata": {},
   "outputs": [],
   "source": []
  },
  {
   "cell_type": "code",
   "execution_count": null,
   "metadata": {},
   "outputs": [],
   "source": []
  }
 ],
 "metadata": {
  "kernelspec": {
   "display_name": "Python 3",
   "language": "python",
   "name": "python3"
  },
  "language_info": {
   "codemirror_mode": {
    "name": "ipython",
    "version": 3
   },
   "file_extension": ".py",
   "mimetype": "text/x-python",
   "name": "python",
   "nbconvert_exporter": "python",
   "pygments_lexer": "ipython3",
   "version": "3.6.5"
  }
 },
 "nbformat": 4,
 "nbformat_minor": 2
}
